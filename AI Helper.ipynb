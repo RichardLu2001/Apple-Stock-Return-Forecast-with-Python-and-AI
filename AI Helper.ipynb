{
 "cells": [
  {
   "cell_type": "code",
   "execution_count": 1,
   "id": "dd0fe3b4",
   "metadata": {},
   "outputs": [],
   "source": [
    "import os\n",
    "import pandas as pd\n",
    "import matplotlib.pyplot as plt\n",
    "from sklearn.model_selection import train_test_split\n",
    "from sklearn.preprocessing import StandardScaler\n",
    "from tensorflow.keras import callbacks\n",
    "from tensorflow.keras import Sequential, layers, regularizers\n",
    "import numpy as np\n",
    "from scipy.stats import pearsonr, spearmanr\n",
    "from tensorflow.keras.callbacks import EarlyStopping\n",
    "import talib\n",
    "from sklearn.metrics import mean_squared_error\n",
    "import tensorflow as tf\n",
    "from tensorflow.keras.losses import Loss\n",
    "from tensorflow.keras.utils import register_keras_serializable\n",
    "import tensorflow.keras.backend as K"
   ]
  },
  {
   "cell_type": "code",
   "execution_count": 46,
   "id": "9cfa31ad",
   "metadata": {},
   "outputs": [
    {
     "data": {
      "text/html": [
       "<div>\n",
       "<style scoped>\n",
       "    .dataframe tbody tr th:only-of-type {\n",
       "        vertical-align: middle;\n",
       "    }\n",
       "\n",
       "    .dataframe tbody tr th {\n",
       "        vertical-align: top;\n",
       "    }\n",
       "\n",
       "    .dataframe thead th {\n",
       "        text-align: right;\n",
       "    }\n",
       "</style>\n",
       "<table border=\"1\" class=\"dataframe\">\n",
       "  <thead>\n",
       "    <tr style=\"text-align: right;\">\n",
       "      <th></th>\n",
       "      <th>Dt</th>\n",
       "      <th>Adj Close</th>\n",
       "      <th>Close</th>\n",
       "      <th>Div</th>\n",
       "      <th>Factor</th>\n",
       "      <th>High</th>\n",
       "      <th>Low</th>\n",
       "      <th>Open</th>\n",
       "      <th>Volume</th>\n",
       "    </tr>\n",
       "  </thead>\n",
       "  <tbody>\n",
       "    <tr>\n",
       "      <th>0</th>\n",
       "      <td>2017-01-03</td>\n",
       "      <td>110.9418</td>\n",
       "      <td>116.15</td>\n",
       "      <td>0.0</td>\n",
       "      <td>1.0</td>\n",
       "      <td>116.3300</td>\n",
       "      <td>114.76</td>\n",
       "      <td>115.80</td>\n",
       "      <td>28781865.0</td>\n",
       "    </tr>\n",
       "    <tr>\n",
       "      <th>1</th>\n",
       "      <td>2017-01-04</td>\n",
       "      <td>110.8176</td>\n",
       "      <td>116.02</td>\n",
       "      <td>0.0</td>\n",
       "      <td>1.0</td>\n",
       "      <td>116.5100</td>\n",
       "      <td>115.75</td>\n",
       "      <td>115.85</td>\n",
       "      <td>21118116.0</td>\n",
       "    </tr>\n",
       "    <tr>\n",
       "      <th>2</th>\n",
       "      <td>2017-01-05</td>\n",
       "      <td>111.3812</td>\n",
       "      <td>116.61</td>\n",
       "      <td>0.0</td>\n",
       "      <td>1.0</td>\n",
       "      <td>116.8642</td>\n",
       "      <td>115.81</td>\n",
       "      <td>115.92</td>\n",
       "      <td>22193587.0</td>\n",
       "    </tr>\n",
       "    <tr>\n",
       "      <th>3</th>\n",
       "      <td>2017-01-06</td>\n",
       "      <td>112.6229</td>\n",
       "      <td>117.91</td>\n",
       "      <td>0.0</td>\n",
       "      <td>1.0</td>\n",
       "      <td>118.1600</td>\n",
       "      <td>116.47</td>\n",
       "      <td>116.78</td>\n",
       "      <td>31751900.0</td>\n",
       "    </tr>\n",
       "    <tr>\n",
       "      <th>4</th>\n",
       "      <td>2017-01-09</td>\n",
       "      <td>113.6545</td>\n",
       "      <td>118.99</td>\n",
       "      <td>0.0</td>\n",
       "      <td>1.0</td>\n",
       "      <td>119.4300</td>\n",
       "      <td>117.94</td>\n",
       "      <td>117.95</td>\n",
       "      <td>33561948.0</td>\n",
       "    </tr>\n",
       "  </tbody>\n",
       "</table>\n",
       "</div>"
      ],
      "text/plain": [
       "           Dt  Adj Close   Close  Div  Factor      High     Low    Open  \\\n",
       "0  2017-01-03   110.9418  116.15  0.0     1.0  116.3300  114.76  115.80   \n",
       "1  2017-01-04   110.8176  116.02  0.0     1.0  116.5100  115.75  115.85   \n",
       "2  2017-01-05   111.3812  116.61  0.0     1.0  116.8642  115.81  115.92   \n",
       "3  2017-01-06   112.6229  117.91  0.0     1.0  118.1600  116.47  116.78   \n",
       "4  2017-01-09   113.6545  118.99  0.0     1.0  119.4300  117.94  117.95   \n",
       "\n",
       "       Volume  \n",
       "0  28781865.0  \n",
       "1  21118116.0  \n",
       "2  22193587.0  \n",
       "3  31751900.0  \n",
       "4  33561948.0  "
      ]
     },
     "execution_count": 46,
     "metadata": {},
     "output_type": "execute_result"
    }
   ],
   "source": [
    "path = os.path.join(\".\", \"Data\", \"sample\", \"AAPL.csv\")\n",
    "\n",
    "df = pd.read_csv(path)\n",
    "\n",
    "df.head()"
   ]
  },
  {
   "cell_type": "code",
   "execution_count": 47,
   "id": "c5d20291",
   "metadata": {},
   "outputs": [],
   "source": [
    "df.drop(columns=['Factor','Div'],inplace=True)"
   ]
  },
  {
   "cell_type": "code",
   "execution_count": 53,
   "id": "32051710",
   "metadata": {},
   "outputs": [
    {
     "name": "stderr",
     "output_type": "stream",
     "text": [
      "Token indices sequence length is longer than the specified maximum sequence length for this model (15178 > 1024). Running this sequence through the model will result in indexing errors\n"
     ]
    },
    {
     "name": "stdout",
     "output_type": "stream",
     "text": [
      "Token count: 15178\n"
     ]
    }
   ],
   "source": [
    "from transformers import GPT2TokenizerFast\n",
    "tokenizer = GPT2TokenizerFast.from_pretrained(\"gpt2\")  # close enough for rough estimate\n",
    "\n",
    "tokens = tokenizer.encode(table_text)\n",
    "print(\"Token count:\", len(tokens))\n"
   ]
  },
  {
   "cell_type": "code",
   "execution_count": 48,
   "id": "259c8fd3",
   "metadata": {
    "collapsed": true
   },
   "outputs": [
    {
     "data": {
      "text/plain": [
       "\"{'Dt': '2017-01-03', 'Adj Close': 110.9418, 'Close': 116.15, 'High': 116.33, 'Low': 114.76, 'Open': 115.8, 'Volume': 28781865.0}\\n{'Dt': '2017-01-04', 'Adj Close': 110.8176, 'Close': 116.02, 'High': 116.51, 'Low': 115.75, 'Open': 115.85, 'Volume': 21118116.0}\\n{'Dt': '2017-01-05', 'Adj Close': 111.3812, 'Close': 116.61, 'High': 116.8642, 'Low': 115.81, 'Open': 115.92, 'Volume': 22193587.0}\\n{'Dt': '2017-01-06', 'Adj Close': 112.6229, 'Close': 117.91, 'High': 118.16, 'Low': 116.47, 'Open': 116.78, 'Volume': 31751900.0}\\n{'Dt': '2017-01-09', 'Adj Close': 113.6545, 'Close': 118.99, 'High': 119.43, 'Low': 117.94, 'Open': 117.95, 'Volume': 33561948.0}\\n{'Dt': '2017-01-10', 'Adj Close': 113.7691, 'Close': 119.11, 'High': 119.38, 'Low': 118.3, 'Open': 118.77, 'Volume': 24462051.0}\\n{'Dt': '2017-01-11', 'Adj Close': 114.3804, 'Close': 119.75, 'High': 119.93, 'Low': 118.6, 'Open': 118.74, 'Volume': 27588593.0}\\n{'Dt': '2017-01-12', 'Adj Close': 113.9028, 'Close': 119.25, 'High': 119.3, 'Low': 118.21, 'Open': 118.895, 'Volume': 27086220.0}\\n{'Dt': '2017-01-13', 'Adj Close': 113.7022, 'Close': 119.04, 'High': 119.62, 'Low': 118.81, 'Open': 119.11, 'Volume': 26111948.0}\\n{'Dt': '2017-01-17', 'Adj Close': 114.6192, 'Close': 120.0, 'High': 120.24, 'Low': 118.22, 'Open': 118.34, 'Volume': 34439843.0}\\n{'Dt': '2017-01-18', 'Adj Close': 114.6096, 'Close': 119.99, 'High': 120.5, 'Low': 119.71, 'Open': 120.0, 'Volume': 23712961.0}\\n{'Dt': '2017-01-19', 'Adj Close': 114.409, 'Close': 119.78, 'High': 120.09, 'Low': 119.37, 'Open': 119.4, 'Volume': 25597291.0}\\n{'Dt': '2017-01-20', 'Adj Close': 114.6192, 'Close': 120.0, 'High': 120.45, 'Low': 119.7346, 'Open': 120.45, 'Volume': 32597892.0}\\n{'Dt': '2017-01-23', 'Adj Close': 114.6956, 'Close': 120.08, 'High': 120.81, 'Low': 119.77, 'Open': 120.0, 'Volume': 22050218.0}\\n{'Dt': '2017-01-24', 'Adj Close': 114.5905, 'Close': 119.97, 'High': 120.1, 'Low': 119.5, 'Open': 119.55, 'Volume': 23211038.0}\\n{'Dt': '2017-01-25', 'Adj Close': 116.4149, 'Close': 121.88, 'High': 122.1, 'Low': 120.28, 'Open': 120.42, 'Volume': 32586673.0}\\n{'Dt': '2017-01-26', 'Adj Close': 116.4722, 'Close': 121.94, 'High': 122.44, 'Low': 121.6, 'Open': 121.67, 'Volume': 26337576.0}\\n{'Dt': '2017-01-27', 'Adj Close': 116.4817, 'Close': 121.95, 'High': 122.35, 'Low': 121.6, 'Open': 122.14, 'Volume': 20562944.0}\\n{'Dt': '2017-01-30', 'Adj Close': 116.1761, 'Close': 121.63, 'High': 121.63, 'Low': 120.66, 'Open': 120.93, 'Volume': 30377503.0}\\n{'Dt': '2017-01-31', 'Adj Close': 115.9086, 'Close': 121.35, 'High': 121.39, 'Low': 120.62, 'Open': 121.15, 'Volume': 49200993.0}\\n{'Dt': '2017-02-01', 'Adj Close': 122.9768, 'Close': 128.75, 'High': 130.49, 'Low': 127.01, 'Open': 127.03, 'Volume': 111985040.0}\\n{'Dt': '2017-02-02', 'Adj Close': 122.7667, 'Close': 128.53, 'High': 129.39, 'Low': 127.78, 'Open': 127.975, 'Volume': 33710411.0}\\n{'Dt': '2017-02-03', 'Adj Close': 123.292, 'Close': 129.08, 'High': 129.19, 'Low': 128.16, 'Open': 128.31, 'Volume': 24507301.0}\\n{'Dt': '2017-02-06', 'Adj Close': 124.4478, 'Close': 130.29, 'High': 130.5, 'Low': 128.9, 'Open': 129.13, 'Volume': 26845924.0}\\n{'Dt': '2017-02-07', 'Adj Close': 125.6322, 'Close': 131.53, 'High': 132.09, 'Low': 130.45, 'Open': 130.54, 'Volume': 38183841.0}\\n{'Dt': '2017-02-08', 'Adj Close': 126.1193, 'Close': 132.04, 'High': 132.22, 'Low': 131.22, 'Open': 131.35, 'Volume': 23004072.0}\\n{'Dt': '2017-02-09', 'Adj Close': 127.0267, 'Close': 132.42, 'High': 132.445, 'Low': 131.12, 'Open': 131.65, 'Volume': 28349859.0}\\n{'Dt': '2017-02-10', 'Adj Close': 126.7389, 'Close': 132.12, 'High': 132.94, 'Low': 132.05, 'Open': 132.46, 'Volume': 20065458.0}\\n{'Dt': '2017-02-13', 'Adj Close': 127.8613, 'Close': 133.29, 'High': 133.82, 'Low': 132.75, 'Open': 133.08, 'Volume': 23035421.0}\\n{'Dt': '2017-02-14', 'Adj Close': 129.5208, 'Close': 135.02, 'High': 135.09, 'Low': 133.25, 'Open': 133.47, 'Volume': 33226223.0}\\n{'Dt': '2017-02-15', 'Adj Close': 129.9908, 'Close': 135.51, 'High': 136.27, 'Low': 134.62, 'Open': 135.52, 'Volume': 35623100.0}\\n{'Dt': '2017-02-16', 'Adj Close': 129.8326, 'Close': 135.345, 'High': 135.9, 'Low': 134.8398, 'Open': 135.67, 'Volume': 22584555.0}\\n{'Dt': '2017-02-17', 'Adj Close': 130.1923, 'Close': 135.72, 'High': 135.83, 'Low': 135.1, 'Open': 135.1, 'Volume': 22198197.0}\\n{'Dt': '2017-02-21', 'Adj Close': 131.1324, 'Close': 136.7, 'High': 136.75, 'Low': 135.98, 'Open': 136.23, 'Volume': 24507156.0}\\n{'Dt': '2017-02-22', 'Adj Close': 131.5257, 'Close': 137.11, 'High': 137.12, 'Low': 136.11, 'Open': 136.43, 'Volume': 20836932.0}\\n{'Dt': '2017-02-23', 'Adj Close': 130.9693, 'Close': 136.53, 'High': 137.48, 'Low': 136.3, 'Open': 137.38, 'Volume': 20788186.0}\\n{'Dt': '2017-02-24', 'Adj Close': 131.094, 'Close': 136.66, 'High': 136.66, 'Low': 135.28, 'Open': 135.91, 'Volume': 21776585.0}\\n{'Dt': '2017-02-27', 'Adj Close': 131.353, 'Close': 136.93, 'High': 137.435, 'Low': 136.28, 'Open': 137.14, 'Volume': 20257426.0}\\n{'Dt': '2017-02-28', 'Adj Close': 131.4106, 'Close': 136.99, 'High': 137.435, 'Low': 136.7, 'Open': 137.08, 'Volume': 23482860.0}\\n{'Dt': '2017-03-01', 'Adj Close': 134.0965, 'Close': 139.79, 'High': 140.15, 'Low': 137.595, 'Open': 137.89, 'Volume': 36414585.0}\\n{'Dt': '2017-03-02', 'Adj Close': 133.3003, 'Close': 138.96, 'High': 140.2786, 'Low': 138.76, 'Open': 140.0, 'Volume': 26210984.0}\\n{'Dt': '2017-03-03', 'Adj Close': 134.0869, 'Close': 139.78, 'High': 139.83, 'Low': 138.59, 'Open': 138.78, 'Volume': 21571121.0}\\n{'Dt': '2017-03-06', 'Adj Close': 133.6649, 'Close': 139.34, 'High': 139.77, 'Low': 138.5959, 'Open': 139.365, 'Volume': 21750044.0}\\n{'Dt': '2017-03-07', 'Adj Close': 133.8375, 'Close': 139.52, 'High': 139.98, 'Low': 138.79, 'Open': 139.06, 'Volume': 17446297.0}\\n{'Dt': '2017-03-08', 'Adj Close': 133.3387, 'Close': 139.0, 'High': 139.8, 'Low': 138.82, 'Open': 138.95, 'Volume': 18707236.0}\\n{'Dt': '2017-03-09', 'Adj Close': 133.0317, 'Close': 138.68, 'High': 138.79, 'Low': 137.05, 'Open': 138.74, 'Volume': 22155904.0}\\n{'Dt': '2017-03-10', 'Adj Close': 133.473, 'Close': 139.14, 'High': 139.3571, 'Low': 138.64, 'Open': 139.25, 'Volume': 19612801.0}\\n{'Dt': '2017-03-13', 'Adj Close': 133.5306, 'Close': 139.2, 'High': 139.43, 'Low': 138.82, 'Open': 138.85, 'Volume': 17421717.0}\\n{'Dt': '2017-03-14', 'Adj Close': 133.3291, 'Close': 138.99, 'High': 139.65, 'Low': 138.84, 'Open': 139.3, 'Volume': 15309065.0}\\n{'Dt': '2017-03-15', 'Adj Close': 134.7392, 'Close': 140.46, 'High': 140.7501, 'Low': 139.025, 'Open': 139.41, 'Volume': 25691774.0}\\n{'Dt': '2017-03-16', 'Adj Close': 134.9599, 'Close': 140.69, 'High': 141.02, 'Low': 140.26, 'Open': 140.72, 'Volume': 19231998.0}\\n{'Dt': '2017-03-17', 'Adj Close': 134.2884, 'Close': 139.99, 'High': 141.0, 'Low': 139.89, 'Open': 141.0, 'Volume': 43884952.0}\\n{'Dt': '2017-03-20', 'Adj Close': 135.6985, 'Close': 141.46, 'High': 141.5, 'Low': 140.23, 'Open': 140.4, 'Volume': 21542038.0}\\n{'Dt': '2017-03-21', 'Adj Close': 134.1445, 'Close': 139.84, 'High': 142.8, 'Low': 139.73, 'Open': 142.11, 'Volume': 39529912.0}\\n{'Dt': '2017-03-22', 'Adj Close': 135.6601, 'Close': 141.42, 'High': 141.6, 'Low': 139.76, 'Open': 139.845, 'Volume': 25860165.0}\\n{'Dt': '2017-03-23', 'Adj Close': 135.1805, 'Close': 140.92, 'High': 141.5844, 'Low': 140.61, 'Open': 141.26, 'Volume': 20346301.0}\\n{'Dt': '2017-03-24', 'Adj Close': 134.9119, 'Close': 140.64, 'High': 141.74, 'Low': 140.35, 'Open': 141.5, 'Volume': 22395563.0}\\n{'Dt': '2017-03-27', 'Adj Close': 135.1421, 'Close': 140.88, 'High': 141.22, 'Low': 138.62, 'Open': 139.39, 'Volume': 23575094.0}\\n{'Dt': '2017-03-28', 'Adj Close': 137.9432, 'Close': 143.8, 'High': 144.04, 'Low': 140.62, 'Open': 140.91, 'Volume': 33374805.0}\\n{'Dt': '2017-03-29', 'Adj Close': 138.2502, 'Close': 144.12, 'High': 144.49, 'Low': 143.19, 'Open': 143.68, 'Volume': 29189955.0}\\n{'Dt': '2017-03-30', 'Adj Close': 138.0679, 'Close': 143.93, 'High': 144.5, 'Low': 143.5, 'Open': 144.19, 'Volume': 21207252.0}\\n{'Dt': '2017-03-31', 'Adj Close': 137.8089, 'Close': 143.66, 'High': 144.27, 'Low': 143.01, 'Open': 143.72, 'Volume': 19661651.0}\\n{'Dt': '2017-04-03', 'Adj Close': 137.8473, 'Close': 143.7, 'High': 144.12, 'Low': 143.05, 'Open': 143.71, 'Volume': 19985714.0}\\n{'Dt': '2017-04-04', 'Adj Close': 138.8737, 'Close': 144.77, 'High': 144.89, 'Low': 143.17, 'Open': 143.25, 'Volume': 19891354.0}\\n{'Dt': '2017-04-05', 'Adj Close': 138.1542, 'Close': 144.02, 'High': 145.46, 'Low': 143.81, 'Open': 144.22, 'Volume': 27717854.0}\\n{'Dt': '2017-04-06', 'Adj Close': 137.8089, 'Close': 143.66, 'High': 144.52, 'Low': 143.45, 'Open': 144.29, 'Volume': 21149034.0}\\n{'Dt': '2017-04-07', 'Adj Close': 137.5019, 'Close': 143.34, 'High': 144.18, 'Low': 143.27, 'Open': 143.73, 'Volume': 16658543.0}\\n{'Dt': '2017-04-10', 'Adj Close': 137.3389, 'Close': 143.17, 'High': 143.8792, 'Low': 142.9, 'Open': 143.6, 'Volume': 18933397.0}\\n{'Dt': '2017-04-11', 'Adj Close': 135.8616, 'Close': 141.63, 'High': 143.35, 'Low': 140.06, 'Open': 142.94, 'Volume': 30379376.0}\\n{'Dt': '2017-04-12', 'Adj Close': 136.0247, 'Close': 141.8, 'High': 142.15, 'Low': 141.01, 'Open': 141.6, 'Volume': 20350000.0}\\n{'Dt': '2017-04-13', 'Adj Close': 135.3052, 'Close': 141.05, 'High': 142.38, 'Low': 141.05, 'Open': 141.91, 'Volume': 17822880.0}\\n{'Dt': '2017-04-17', 'Adj Close': 136.0534, 'Close': 141.83, 'High': 141.88, 'Low': 140.87, 'Open': 141.48, 'Volume': 16582094.0}\\n{'Dt': '2017-04-18', 'Adj Close': 135.4491, 'Close': 141.2, 'High': 142.04, 'Low': 141.11, 'Open': 141.41, 'Volume': 14697544.0}\\n{'Dt': '2017-04-19', 'Adj Close': 134.9503, 'Close': 140.68, 'High': 142.0, 'Low': 140.45, 'Open': 141.88, 'Volume': 17328375.0}\\n{'Dt': '2017-04-20', 'Adj Close': 136.6386, 'Close': 142.44, 'High': 142.92, 'Low': 141.16, 'Open': 141.22, 'Volume': 23319562.0}\\n{'Dt': '2017-04-21', 'Adj Close': 136.4755, 'Close': 142.27, 'High': 142.68, 'Low': 141.85, 'Open': 142.44, 'Volume': 17320928.0}\\n{'Dt': '2017-04-24', 'Adj Close': 137.7897, 'Close': 143.64, 'High': 143.95, 'Low': 143.18, 'Open': 143.5, 'Volume': 17116599.0}\\n{'Dt': '2017-04-25', 'Adj Close': 138.6435, 'Close': 144.53, 'High': 144.9, 'Low': 143.87, 'Open': 143.91, 'Volume': 18216472.0}\\n{'Dt': '2017-04-26', 'Adj Close': 137.8281, 'Close': 143.68, 'High': 144.6, 'Low': 143.3762, 'Open': 144.47, 'Volume': 19614287.0}\\n{'Dt': '2017-04-27', 'Adj Close': 137.9336, 'Close': 143.79, 'High': 144.16, 'Low': 143.31, 'Open': 143.9225, 'Volume': 13948980.0}\\n{'Dt': '2017-04-28', 'Adj Close': 137.7993, 'Close': 143.65, 'High': 144.3, 'Low': 143.27, 'Open': 144.09, 'Volume': 20247187.0}\\n{'Dt': '2017-05-01', 'Adj Close': 140.61, 'Close': 146.58, 'High': 147.2, 'Low': 144.96, 'Open': 145.1, 'Volume': 32818760.0}\\n{'Dt': '2017-05-02', 'Adj Close': 141.5021, 'Close': 147.51, 'High': 148.09, 'Low': 146.84, 'Open': 147.54, 'Volume': 39752670.0}\\n{'Dt': '2017-05-03', 'Adj Close': 141.0704, 'Close': 147.06, 'High': 147.49, 'Low': 144.27, 'Open': 145.59, 'Volume': 45142806.0}\\n{'Dt': '2017-05-04', 'Adj Close': 140.562, 'Close': 146.53, 'High': 147.14, 'Low': 145.81, 'Open': 146.52, 'Volume': 23275690.0}\\n{'Dt': '2017-05-05', 'Adj Close': 142.893, 'Close': 148.96, 'High': 148.98, 'Low': 146.76, 'Open': 146.76, 'Volume': 26787359.0}\\n{'Dt': '2017-05-08', 'Adj Close': 146.7781, 'Close': 153.01, 'High': 153.7, 'Low': 149.03, 'Open': 149.03, 'Volume': 48339210.0}\\n{'Dt': '2017-05-09', 'Adj Close': 147.7182, 'Close': 153.99, 'High': 154.88, 'Low': 153.45, 'Open': 153.87, 'Volume': 35942435.0}\\n{'Dt': '2017-05-10', 'Adj Close': 147.0179, 'Close': 153.26, 'High': 153.94, 'Low': 152.11, 'Open': 153.63, 'Volume': 25670456.0}\\n{'Dt': '2017-05-11', 'Adj Close': 148.2842, 'Close': 153.95, 'High': 154.07, 'Low': 152.31, 'Open': 152.45, 'Volume': 25596687.0}\\n{'Dt': '2017-05-12', 'Adj Close': 150.355, 'Close': 156.1, 'High': 156.42, 'Low': 154.67, 'Open': 154.7, 'Volume': 32221756.0}\\n{'Dt': '2017-05-15', 'Adj Close': 149.9697, 'Close': 155.7, 'High': 156.65, 'Low': 155.05, 'Open': 156.01, 'Volume': 25700983.0}\\n{'Dt': '2017-05-16', 'Adj Close': 149.7482, 'Close': 155.47, 'High': 156.06, 'Low': 154.72, 'Open': 155.94, 'Volume': 19904679.0}\\n{'Dt': '2017-05-17', 'Adj Close': 144.7203, 'Close': 150.25, 'High': 154.57, 'Low': 149.71, 'Open': 153.6, 'Volume': 49482818.0}\\n{'Dt': '2017-05-18', 'Adj Close': 146.926, 'Close': 152.54, 'High': 153.34, 'Low': 151.13, 'Open': 151.27, 'Volume': 33159664.0}\\n{'Dt': '2017-05-19', 'Adj Close': 147.4269, 'Close': 153.06, 'High': 153.98, 'Low': 152.63, 'Open': 153.38, 'Volume': 26733798.0}\\n{'Dt': '2017-05-22', 'Adj Close': 148.3227, 'Close': 153.99, 'High': 154.58, 'Low': 152.91, 'Open': 154.0, 'Volume': 22340069.0}\\n{'Dt': '2017-05-23', 'Adj Close': 148.1397, 'Close': 153.8, 'High': 154.9, 'Low': 153.31, 'Open': 154.9, 'Volume': 19430358.0}\\n{'Dt': '2017-05-24', 'Adj Close': 147.6966, 'Close': 153.34, 'High': 154.17, 'Low': 152.67, 'Open': 153.84, 'Volume': 19118319.0}\\n{'Dt': '2017-05-25', 'Adj Close': 148.2071, 'Close': 153.87, 'High': 154.35, 'Low': 153.03, 'Open': 153.73, 'Volume': 19044463.0}\\n{'Dt': '2017-05-26', 'Adj Close': 147.9567, 'Close': 153.61, 'High': 154.24, 'Low': 153.31, 'Open': 154.0, 'Volume': 21632202.0}\\n{'Dt': '2017-05-30', 'Adj Close': 148.0145, 'Close': 153.67, 'High': 154.43, 'Low': 153.33, 'Open': 153.42, 'Volume': 20034934.0}\\n{'Dt': '2017-05-31', 'Adj Close': 147.1379, 'Close': 152.76, 'High': 154.17, 'Low': 152.38, 'Open': 153.97, 'Volume': 23162873.0}\\n{'Dt': '2017-06-01', 'Adj Close': 147.5425, 'Close': 153.18, 'High': 153.33, 'Low': 152.22, 'Open': 153.17, 'Volume': 16180143.0}\\n{'Dt': '2017-06-02', 'Adj Close': 149.7289, 'Close': 155.45, 'High': 155.45, 'Low': 152.89, 'Open': 153.58, 'Volume': 27285861.0}\\n{'Dt': '2017-06-05', 'Adj Close': 148.2649, 'Close': 153.93, 'High': 154.45, 'Low': 153.46, 'Open': 154.34, 'Volume': 24803858.0}\\n{'Dt': '2017-06-06', 'Adj Close': 148.7658, 'Close': 154.45, 'High': 155.81, 'Low': 153.78, 'Open': 153.9, 'Volume': 26249630.0}\\n{'Dt': '2017-06-07', 'Adj Close': 149.6519, 'Close': 155.37, 'High': 155.98, 'Low': 154.48, 'Open': 155.02, 'Volume': 20678772.0}\\n{'Dt': '2017-06-08', 'Adj Close': 149.2859, 'Close': 154.99, 'High': 155.54, 'Low': 154.4, 'Open': 155.25, 'Volume': 20771367.0}\\n{'Dt': '2017-06-09', 'Adj Close': 143.4971, 'Close': 148.98, 'High': 155.19, 'Low': 146.02, 'Open': 155.19, 'Volume': 64882700.0}\\n{'Dt': '2017-06-12', 'Adj Close': 140.0681, 'Close': 145.42, 'High': 146.09, 'Low': 142.51, 'Open': 145.74, 'Volume': 71563614.0}\\n{'Dt': '2017-06-13', 'Adj Close': 141.195, 'Close': 146.59, 'High': 147.45, 'Low': 145.15, 'Open': 147.16, 'Volume': 33749154.0}\\n{'Dt': '2017-06-14', 'Adj Close': 139.8177, 'Close': 145.16, 'High': 147.5, 'Low': 143.84, 'Open': 147.5, 'Volume': 31224203.0}\\n{'Dt': '2017-06-15', 'Adj Close': 138.9797, 'Close': 144.29, 'High': 144.4798, 'Low': 142.21, 'Open': 143.32, 'Volume': 31348832.0}\\n{'Dt': '2017-06-16', 'Adj Close': 137.034, 'Close': 142.27, 'High': 144.5, 'Low': 142.2, 'Open': 143.78, 'Volume': 49180748.0}\\n{'Dt': '2017-06-19', 'Adj Close': 140.9542, 'Close': 146.34, 'High': 146.74, 'Low': 143.66, 'Open': 143.66, 'Volume': 31449132.0}\\n{'Dt': '2017-06-20', 'Adj Close': 139.6732, 'Close': 145.01, 'High': 146.87, 'Low': 144.94, 'Open': 146.87, 'Volume': 24572170.0}\\n{'Dt': '2017-06-21', 'Adj Close': 140.5015, 'Close': 145.87, 'High': 146.0693, 'Low': 144.61, 'Open': 145.52, 'Volume': 21064679.0}\\n{'Dt': '2017-06-22', 'Adj Close': 140.2704, 'Close': 145.63, 'High': 146.7, 'Low': 145.1199, 'Open': 145.77, 'Volume': 18673365.0}\\n{'Dt': '2017-06-23', 'Adj Close': 140.8964, 'Close': 146.28, 'High': 147.16, 'Low': 145.11, 'Open': 145.13, 'Volume': 25997976.0}\\n{'Dt': '2017-06-26', 'Adj Close': 140.4534, 'Close': 145.82, 'High': 148.28, 'Low': 145.38, 'Open': 147.17, 'Volume': 25524661.0}\\n{'Dt': '2017-06-27', 'Adj Close': 138.4403, 'Close': 143.73, 'High': 146.16, 'Low': 143.62, 'Open': 145.01, 'Volume': 24423643.0}\\n{'Dt': '2017-06-28', 'Adj Close': 140.463, 'Close': 145.83, 'High': 146.11, 'Low': 143.1601, 'Open': 144.49, 'Volume': 21915939.0}\\n{'Dt': '2017-06-29', 'Adj Close': 138.3921, 'Close': 143.68, 'High': 145.13, 'Low': 142.28, 'Open': 144.71, 'Volume': 31116980.0}\\n{'Dt': '2017-06-30', 'Adj Close': 138.7196, 'Close': 144.02, 'High': 144.96, 'Low': 143.78, 'Open': 144.45, 'Volume': 22328979.0}\\n{'Dt': '2017-07-03', 'Adj Close': 138.2187, 'Close': 143.5, 'High': 145.3, 'Low': 143.1, 'Open': 144.88, 'Volume': 14258300.0}\\n{'Dt': '2017-07-05', 'Adj Close': 138.787, 'Close': 144.09, 'High': 144.79, 'Low': 142.7237, 'Open': 143.69, 'Volume': 20758795.0}\\n{'Dt': '2017-07-06', 'Adj Close': 137.4771, 'Close': 142.73, 'High': 143.5, 'Low': 142.41, 'Open': 143.02, 'Volume': 23374374.0}\\n{'Dt': '2017-07-07', 'Adj Close': 138.8737, 'Close': 144.18, 'High': 144.75, 'Low': 142.9, 'Open': 142.9, 'Volume': 18505351.0}\\n{'Dt': '2017-07-10', 'Adj Close': 139.7213, 'Close': 145.06, 'High': 145.95, 'Low': 143.37, 'Open': 144.11, 'Volume': 21030466.0}\\n{'Dt': '2017-07-11', 'Adj Close': 140.174, 'Close': 145.53, 'High': 145.85, 'Low': 144.38, 'Open': 144.73, 'Volume': 18311156.0}\\n{'Dt': '2017-07-12', 'Adj Close': 140.3763, 'Close': 145.74, 'High': 146.18, 'Low': 144.82, 'Open': 145.87, 'Volume': 23617964.0}\\n{'Dt': '2017-07-13', 'Adj Close': 142.3316, 'Close': 147.77, 'High': 148.49, 'Low': 145.44, 'Open': 145.5, 'Volume': 24922788.0}\\n{'Dt': '2017-07-14', 'Adj Close': 143.5549, 'Close': 149.04, 'High': 149.33, 'Low': 147.33, 'Open': 147.97, 'Volume': 19961788.0}\\n{'Dt': '2017-07-17', 'Adj Close': 144.0557, 'Close': 149.56, 'High': 150.9, 'Low': 148.57, 'Open': 148.82, 'Volume': 23243713.0}\\n{'Dt': '2017-07-18', 'Adj Close': 144.5566, 'Close': 150.08, 'High': 150.13, 'Low': 148.67, 'Open': 149.2, 'Volume': 17713795.0}\\n{'Dt': '2017-07-19', 'Adj Close': 145.462, 'Close': 151.02, 'High': 151.42, 'Low': 149.95, 'Open': 150.48, 'Volume': 20615419.0}\\n{'Dt': '2017-07-20', 'Adj Close': 144.807, 'Close': 150.34, 'High': 151.74, 'Low': 150.19, 'Open': 151.5, 'Volume': 17053326.0}\\n{'Dt': '2017-07-21', 'Adj Close': 144.7396, 'Close': 150.27, 'High': 150.44, 'Low': 148.88, 'Open': 149.99, 'Volume': 24671002.0}\\n{'Dt': '2017-07-24', 'Adj Close': 146.4926, 'Close': 152.09, 'High': 152.44, 'Low': 149.9, 'Open': 150.58, 'Volume': 21122730.0}\\n{'Dt': '2017-07-25', 'Adj Close': 147.1187, 'Close': 152.74, 'High': 153.84, 'Low': 151.8, 'Open': 151.8, 'Volume': 18612649.0}\\n{'Dt': '2017-07-26', 'Adj Close': 147.8122, 'Close': 153.46, 'High': 153.93, 'Low': 153.06, 'Open': 153.35, 'Volume': 15172136.0}\\n{'Dt': '2017-07-27', 'Adj Close': 145.0189, 'Close': 150.56, 'High': 153.99, 'Low': 147.3, 'Open': 153.75, 'Volume': 32175875.0}\\n{'Dt': '2017-07-28', 'Adj Close': 143.9979, 'Close': 149.5, 'High': 150.23, 'Low': 149.19, 'Open': 149.89, 'Volume': 16832947.0}\\n{'Dt': '2017-07-31', 'Adj Close': 143.2563, 'Close': 148.73, 'High': 150.33, 'Low': 148.13, 'Open': 149.9, 'Volume': 19422655.0}\\n{'Dt': '2017-08-01', 'Adj Close': 144.5277, 'Close': 150.05, 'High': 150.22, 'Low': 148.41, 'Open': 149.1, 'Volume': 24725526.0}\\n{'Dt': '2017-08-02', 'Adj Close': 151.3567, 'Close': 157.14, 'High': 159.75, 'Low': 156.16, 'Open': 159.28, 'Volume': 69222793.0}\\n{'Dt': '2017-08-03', 'Adj Close': 149.8445, 'Close': 155.57, 'High': 157.21, 'Low': 155.02, 'Open': 157.05, 'Volume': 26000738.0}\\n{'Dt': '2017-08-04', 'Adj Close': 150.6344, 'Close': 156.39, 'High': 157.4, 'Low': 155.69, 'Open': 156.07, 'Volume': 20349532.0}\\n{'Dt': '2017-08-07', 'Adj Close': 152.9653, 'Close': 158.81, 'High': 158.92, 'Low': 156.6701, 'Open': 157.06, 'Volume': 21870321.0}\\n{'Dt': '2017-08-08', 'Adj Close': 154.1885, 'Close': 160.08, 'High': 161.83, 'Low': 158.27, 'Open': 158.6, 'Volume': 35775675.0}\\n{'Dt': '2017-08-09', 'Adj Close': 155.1325, 'Close': 161.06, 'High': 161.27, 'Low': 159.11, 'Open': 159.26, 'Volume': 25640394.0}\\n{'Dt': '2017-08-10', 'Adj Close': 150.2105, 'Close': 155.32, 'High': 160.0, 'Low': 154.63, 'Open': 159.9, 'Volume': 39081017.0}\\n{'Dt': '2017-08-11', 'Adj Close': 152.2995, 'Close': 157.48, 'High': 158.5728, 'Low': 156.07, 'Open': 156.6, 'Volume': 25943187.0}\\n{'Dt': '2017-08-14', 'Adj Close': 154.5915, 'Close': 159.85, 'High': 160.21, 'Low': 158.75, 'Open': 159.32, 'Volume': 21754810.0}\\n{'Dt': '2017-08-15', 'Adj Close': 156.284, 'Close': 161.6, 'High': 162.195, 'Low': 160.14, 'Open': 160.66, 'Volume': 27936774.0}\\n{'Dt': '2017-08-16', 'Adj Close': 155.6553, 'Close': 160.95, 'High': 162.51, 'Low': 160.15, 'Open': 161.94, 'Volume': 27321761.0}\\n{'Dt': '2017-08-17', 'Adj Close': 152.667, 'Close': 157.86, 'High': 160.71, 'Low': 157.84, 'Open': 160.52, 'Volume': 26925694.0}\\n{'Dt': '2017-08-18', 'Adj Close': 152.3188, 'Close': 157.5, 'High': 159.5, 'Low': 156.72, 'Open': 157.86, 'Volume': 27012525.0}\\n{'Dt': '2017-08-21', 'Adj Close': 152.0384, 'Close': 157.21, 'High': 157.89, 'Low': 155.1101, 'Open': 157.5, 'Volume': 26145653.0}\\n{'Dt': '2017-08-22', 'Adj Close': 154.5238, 'Close': 159.78, 'High': 160.0, 'Low': 158.02, 'Open': 158.23, 'Volume': 21297812.0}\\n{'Dt': '2017-08-23', 'Adj Close': 154.7172, 'Close': 159.98, 'High': 160.47, 'Low': 158.88, 'Open': 159.07, 'Volume': 19198189.0}\\n{'Dt': '2017-08-24', 'Adj Close': 154.0306, 'Close': 159.27, 'High': 160.74, 'Low': 158.55, 'Open': 160.43, 'Volume': 19029621.0}\\n{'Dt': '2017-08-25', 'Adj Close': 154.6012, 'Close': 159.86, 'High': 160.56, 'Low': 159.27, 'Open': 159.65, 'Volume': 25015218.0}\\n{'Dt': '2017-08-28', 'Adj Close': 156.1582, 'Close': 161.47, 'High': 162.0, 'Low': 159.93, 'Open': 160.14, 'Volume': 25279674.0}\\n{'Dt': '2017-08-29', 'Adj Close': 157.5509, 'Close': 162.91, 'High': 163.12, 'Low': 160.0, 'Open': 160.1, 'Volume': 29307862.0}\\n{'Dt': '2017-08-30', 'Adj Close': 157.9764, 'Close': 163.35, 'High': 163.89, 'Low': 162.61, 'Open': 163.8, 'Volume': 26973946.0}\\n{'Dt': '2017-08-31', 'Adj Close': 158.605, 'Close': 164.0, 'High': 164.52, 'Low': 163.48, 'Open': 163.64, 'Volume': 26412439.0}\\n{'Dt': '2017-09-01', 'Adj Close': 158.6534, 'Close': 164.05, 'High': 164.94, 'Low': 163.63, 'Open': 164.8, 'Volume': 16508568.0}\\n{'Dt': '2017-09-05', 'Adj Close': 156.7482, 'Close': 162.08, 'High': 164.25, 'Low': 160.56, 'Open': 163.75, 'Volume': 29317054.0}\\n{'Dt': '2017-09-06', 'Adj Close': 156.5838, 'Close': 161.91, 'High': 162.99, 'Low': 160.52, 'Open': 162.71, 'Volume': 21179047.0}\\n{'Dt': '2017-09-07', 'Adj Close': 155.9551, 'Close': 161.26, 'High': 162.24, 'Low': 160.36, 'Open': 162.09, 'Volume': 21722995.0}\\n{'Dt': '2017-09-08', 'Adj Close': 153.4117, 'Close': 158.63, 'High': 161.15, 'Low': 158.53, 'Open': 160.86, 'Volume': 28183159.0}\\n{'Dt': '2017-09-11', 'Adj Close': 156.1872, 'Close': 161.5, 'High': 162.05, 'Low': 159.89, 'Open': 160.5, 'Volume': 31028926.0}\\n{'Dt': '2017-09-12', 'Adj Close': 155.5683, 'Close': 160.86, 'High': 163.96, 'Low': 158.77, 'Open': 162.61, 'Volume': 71139119.0}\\n{'Dt': '2017-09-13', 'Adj Close': 154.3981, 'Close': 159.65, 'High': 159.96, 'Low': 157.91, 'Open': 159.87, 'Volume': 44393752.0}\\n{'Dt': '2017-09-14', 'Adj Close': 153.0732, 'Close': 158.28, 'High': 159.4, 'Low': 158.09, 'Open': 158.99, 'Volume': 23073646.0}\\n{'Dt': '2017-09-15', 'Adj Close': 154.6205, 'Close': 159.88, 'High': 160.97, 'Low': 158.0, 'Open': 158.47, 'Volume': 48203642.0}\\n{'Dt': '2017-09-18', 'Adj Close': 153.4503, 'Close': 158.67, 'High': 160.5, 'Low': 157.995, 'Open': 160.11, 'Volume': 27939718.0}\\n{'Dt': '2017-09-19', 'Adj Close': 153.5084, 'Close': 158.73, 'High': 159.77, 'Low': 158.44, 'Open': 159.51, 'Volume': 20347352.0}\\n{'Dt': '2017-09-20', 'Adj Close': 150.9359, 'Close': 156.07, 'High': 158.26, 'Low': 153.83, 'Open': 157.9, 'Volume': 51693239.0}\\n{'Dt': '2017-09-21', 'Adj Close': 148.344, 'Close': 153.39, 'High': 155.8, 'Low': 152.75, 'Open': 155.8, 'Volume': 36643382.0}\\n{'Dt': '2017-09-22', 'Adj Close': 146.8934, 'Close': 151.89, 'High': 152.27, 'Low': 150.56, 'Open': 152.02, 'Volume': 46114424.0}\\n{'Dt': '2017-09-25', 'Adj Close': 145.5975, 'Close': 150.55, 'High': 151.83, 'Low': 149.16, 'Open': 149.99, 'Volume': 43922334.0}\\n{'Dt': '2017-09-26', 'Adj Close': 148.1023, 'Close': 153.14, 'High': 153.92, 'Low': 151.69, 'Open': 151.78, 'Volume': 35470985.0}\\n{'Dt': '2017-09-27', 'Adj Close': 149.1564, 'Close': 154.23, 'High': 154.7189, 'Low': 153.54, 'Open': 153.8, 'Volume': 24959552.0}\\n{'Dt': '2017-09-28', 'Adj Close': 148.2377, 'Close': 153.28, 'High': 154.28, 'Low': 152.7, 'Open': 153.89, 'Volume': 21896592.0}\\n{'Dt': '2017-09-29', 'Adj Close': 149.05, 'Close': 154.12, 'High': 154.13, 'Low': 152.0, 'Open': 153.21, 'Volume': 25856530.0}\\n{'Dt': '2017-10-02', 'Adj Close': 148.7502, 'Close': 153.81, 'High': 154.45, 'Low': 152.72, 'Open': 154.26, 'Volume': 18524860.0}\\n{'Dt': '2017-10-03', 'Adj Close': 149.3982, 'Close': 154.48, 'High': 155.09, 'Low': 153.91, 'Open': 154.01, 'Volume': 16146388.0}\\n{'Dt': '2017-10-04', 'Adj Close': 148.4311, 'Close': 153.48, 'High': 153.86, 'Low': 152.46, 'Open': 153.63, 'Volume': 19844177.0}\\n{'Dt': '2017-10-05', 'Adj Close': 150.2782, 'Close': 155.39, 'High': 155.44, 'Low': 154.05, 'Open': 154.18, 'Volume': 21032800.0}\\n{'Dt': '2017-10-06', 'Adj Close': 150.1912, 'Close': 155.3, 'High': 155.49, 'Low': 154.56, 'Open': 154.97, 'Volume': 16423749.0}\\n{'Dt': '2017-10-09', 'Adj Close': 150.7134, 'Close': 155.84, 'High': 156.73, 'Low': 155.485, 'Open': 155.81, 'Volume': 16200129.0}\\n{'Dt': '2017-10-10', 'Adj Close': 150.7715, 'Close': 155.9, 'High': 158.0, 'Low': 155.1, 'Open': 156.055, 'Volume': 15456331.0}\\n{'Dt': '2017-10-11', 'Adj Close': 151.4001, 'Close': 156.55, 'High': 156.98, 'Low': 155.75, 'Open': 155.97, 'Volume': 16607693.0}\\n{'Dt': '2017-10-12', 'Adj Close': 150.8682, 'Close': 156.0, 'High': 157.37, 'Low': 155.7299, 'Open': 156.35, 'Volume': 16045720.0}\\n{'Dt': '2017-10-13', 'Adj Close': 151.8256, 'Close': 156.99, 'High': 157.28, 'Low': 156.41, 'Open': 156.73, 'Volume': 16287608.0}\\n{'Dt': '2017-10-16', 'Adj Close': 154.6205, 'Close': 159.88, 'High': 160.0, 'Low': 157.65, 'Open': 157.9, 'Volume': 23894630.0}\\n{'Dt': '2017-10-17', 'Adj Close': 155.1911, 'Close': 160.47, 'High': 160.87, 'Low': 159.23, 'Open': 159.78, 'Volume': 18816438.0}\\n{'Dt': '2017-10-18', 'Adj Close': 154.5045, 'Close': 159.76, 'High': 160.71, 'Low': 159.6, 'Open': 160.42, 'Volume': 16158659.0}\\n{'Dt': '2017-10-19', 'Adj Close': 150.8488, 'Close': 155.98, 'High': 157.08, 'Low': 155.02, 'Open': 156.75, 'Volume': 42111326.0}\\n{'Dt': '2017-10-20', 'Adj Close': 151.11, 'Close': 156.25, 'High': 157.75, 'Low': 155.96, 'Open': 156.61, 'Volume': 23612246.0}\\n{'Dt': '2017-10-23', 'Adj Close': 151.0326, 'Close': 156.17, 'High': 157.69, 'Low': 155.5, 'Open': 156.89, 'Volume': 21654461.0}\\n{'Dt': '2017-10-24', 'Adj Close': 151.932, 'Close': 157.1, 'High': 157.42, 'Low': 156.2, 'Open': 156.29, 'Volume': 17137731.0}\\n{'Dt': '2017-10-25', 'Adj Close': 151.2647, 'Close': 156.41, 'High': 157.55, 'Low': 155.27, 'Open': 156.91, 'Volume': 20126554.0}\\n{'Dt': '2017-10-26', 'Adj Close': 152.2318, 'Close': 157.41, 'High': 157.8295, 'Low': 156.78, 'Open': 157.23, 'Volume': 16751691.0}\\n{'Dt': '2017-10-27', 'Adj Close': 157.6863, 'Close': 163.05, 'High': 163.6, 'Low': 158.7, 'Open': 159.29, 'Volume': 43904150.0}\\n{'Dt': '2017-10-30', 'Adj Close': 161.2355, 'Close': 166.72, 'High': 168.07, 'Low': 163.72, 'Open': 163.89, 'Volume': 43923292.0}\\n{'Dt': '2017-10-31', 'Adj Close': 163.4792, 'Close': 169.04, 'High': 169.6499, 'Low': 166.94, 'Open': 167.9, 'Volume': 35474672.0}\\n{'Dt': '2017-11-01', 'Adj Close': 161.3999, 'Close': 166.89, 'High': 169.94, 'Low': 165.61, 'Open': 169.87, 'Volume': 33100847.0}\\n{'Dt': '2017-11-02', 'Adj Close': 162.5798, 'Close': 168.11, 'High': 168.5, 'Low': 165.28, 'Open': 167.64, 'Volume': 32710040.0}\\n{'Dt': '2017-11-03', 'Adj Close': 166.8254, 'Close': 172.5, 'High': 174.26, 'Low': 171.12, 'Open': 174.0, 'Volume': 58683826.0}\\n{'Dt': '2017-11-06', 'Adj Close': 168.5178, 'Close': 174.25, 'High': 174.99, 'Low': 171.72, 'Open': 172.365, 'Volume': 34242566.0}\\n{'Dt': '2017-11-07', 'Adj Close': 169.0594, 'Close': 174.81, 'High': 175.25, 'Low': 173.6, 'Open': 173.91, 'Volume': 23910914.0}\\n{'Dt': '2017-11-08', 'Adj Close': 170.4424, 'Close': 176.24, 'High': 176.24, 'Low': 174.33, 'Open': 174.66, 'Volume': 24409527.0}\\n{'Dt': '2017-11-09', 'Adj Close': 170.0942, 'Close': 175.88, 'High': 176.095, 'Low': 173.14, 'Open': 175.11, 'Volume': 28636531.0}\\n{'Dt': '2017-11-10', 'Adj Close': 169.5333, 'Close': 174.67, 'High': 175.38, 'Low': 174.27, 'Open': 175.11, 'Volume': 25061183.0}\\n{'Dt': '2017-11-13', 'Adj Close': 168.8539, 'Close': 173.97, 'High': 174.5, 'Low': 173.4, 'Open': 173.5, 'Volume': 16828025.0}\\n{'Dt': '2017-11-14', 'Adj Close': 166.3012, 'Close': 171.34, 'High': 173.48, 'Low': 171.18, 'Open': 173.04, 'Volume': 23588451.0}\\n{'Dt': '2017-11-15', 'Adj Close': 164.1077, 'Close': 169.08, 'High': 170.3197, 'Low': 168.38, 'Open': 169.97, 'Volume': 28702351.0}\\n{'Dt': '2017-11-16', 'Adj Close': 166.0683, 'Close': 171.1, 'High': 171.87, 'Low': 170.3, 'Open': 171.18, 'Volume': 23497326.0}\\n{'Dt': '2017-11-17', 'Adj Close': 165.1462, 'Close': 170.15, 'High': 171.39, 'Low': 169.64, 'Open': 171.04, 'Volume': 21665811.0}\\n{'Dt': '2017-11-20', 'Adj Close': 164.9812, 'Close': 169.98, 'High': 170.56, 'Low': 169.56, 'Open': 170.29, 'Volume': 15974387.0}\\n{'Dt': '2017-11-21', 'Adj Close': 168.0483, 'Close': 173.14, 'High': 173.7, 'Low': 170.78, 'Open': 170.78, 'Volume': 24875471.0}\\n{'Dt': '2017-11-22', 'Adj Close': 169.8147, 'Close': 174.96, 'High': 175.0, 'Low': 173.05, 'Open': 173.36, 'Volume': 24997274.0}\\n{'Dt': '2017-11-24', 'Adj Close': 169.8245, 'Close': 174.97, 'High': 175.5, 'Low': 174.6459, 'Open': 175.1, 'Volume': 14026519.0}\\n{'Dt': '2017-11-27', 'Adj Close': 168.9703, 'Close': 174.09, 'High': 175.08, 'Low': 173.34, 'Open': 175.05, 'Volume': 20536313.0}\\n{'Dt': '2017-11-28', 'Adj Close': 167.9803, 'Close': 173.07, 'High': 174.87, 'Low': 171.86, 'Open': 174.3, 'Volume': 25468442.0}\\n{'Dt': '2017-11-29', 'Adj Close': 164.4959, 'Close': 169.48, 'High': 172.92, 'Low': 167.16, 'Open': 172.63, 'Volume': 40788324.0}\\n{'Dt': '2017-11-30', 'Adj Close': 166.7962, 'Close': 171.85, 'High': 172.14, 'Low': 168.44, 'Open': 170.43, 'Volume': 40172368.0}\\n{'Dt': '2017-12-01', 'Adj Close': 166.0197, 'Close': 171.05, 'High': 171.67, 'Low': 168.5, 'Open': 169.95, 'Volume': 39590080.0}\\n{'Dt': '2017-12-04', 'Adj Close': 164.8065, 'Close': 169.8, 'High': 172.62, 'Low': 169.63, 'Open': 172.48, 'Volume': 32115052.0}\\n{'Dt': '2017-12-05', 'Adj Close': 164.6512, 'Close': 169.64, 'High': 171.52, 'Low': 168.4, 'Open': 169.06, 'Volume': 27008428.0}\\n{'Dt': '2017-12-06', 'Adj Close': 164.0397, 'Close': 169.01, 'High': 170.2047, 'Low': 166.46, 'Open': 167.5, 'Volume': 28224357.0}\\n{'Dt': '2017-12-07', 'Adj Close': 164.3406, 'Close': 169.32, 'High': 170.44, 'Low': 168.91, 'Open': 169.03, 'Volume': 24469613.0}\\n{'Dt': '2017-12-08', 'Adj Close': 164.3891, 'Close': 169.37, 'High': 171.0, 'Low': 168.82, 'Open': 170.49, 'Volume': 23096872.0}\\n{'Dt': '2017-12-11', 'Adj Close': 167.5921, 'Close': 172.67, 'High': 172.89, 'Low': 168.79, 'Open': 169.2, 'Volume': 33092051.0}\\n{'Dt': '2017-12-12', 'Adj Close': 166.6506, 'Close': 171.7, 'High': 172.39, 'Low': 171.461, 'Open': 172.15, 'Volume': 18945457.0}\\n{'Dt': '2017-12-13', 'Adj Close': 167.2039, 'Close': 172.27, 'High': 173.54, 'Low': 172.0, 'Open': 172.5, 'Volume': 23142242.0}\\n{'Dt': '2017-12-14', 'Adj Close': 167.1553, 'Close': 172.22, 'High': 173.13, 'Low': 171.65, 'Open': 172.4, 'Volume': 20219307.0}\\n{'Dt': '2017-12-15', 'Adj Close': 168.8539, 'Close': 173.97, 'High': 174.17, 'Low': 172.46, 'Open': 173.63, 'Volume': 37054632.0}\\n{'Dt': '2017-12-18', 'Adj Close': 171.2318, 'Close': 176.42, 'High': 177.2, 'Low': 174.86, 'Open': 174.88, 'Volume': 28831533.0}\\n{'Dt': '2017-12-19', 'Adj Close': 169.4071, 'Close': 174.54, 'High': 175.39, 'Low': 174.09, 'Open': 175.03, 'Volume': 27078872.0}\\n{'Dt': '2017-12-20', 'Adj Close': 169.2227, 'Close': 174.35, 'High': 175.42, 'Low': 173.25, 'Open': 174.87, 'Volume': 23000392.0}\\n{'Dt': '2017-12-21', 'Adj Close': 169.8633, 'Close': 175.01, 'High': 176.02, 'Low': 174.1, 'Open': 174.17, 'Volume': 20356826.0}\\n{'Dt': '2017-12-22', 'Adj Close': 169.8633, 'Close': 175.01, 'High': 175.424, 'Low': 174.5, 'Open': 174.68, 'Volume': 16052615.0}\\n{'Dt': '2017-12-26', 'Adj Close': 165.5539, 'Close': 170.57, 'High': 171.47, 'Low': 169.679, 'Open': 170.8, 'Volume': 32968167.0}\\n{'Dt': '2017-12-27', 'Adj Close': 165.583, 'Close': 170.6, 'High': 170.78, 'Low': 169.71, 'Open': 170.1, 'Volume': 21672062.0}\\n{'Dt': '2017-12-28', 'Adj Close': 166.0489, 'Close': 171.08, 'High': 171.85, 'Low': 170.48, 'Open': 171.0, 'Volume': 15997739.0}\\n{'Dt': '2017-12-29', 'Adj Close': 164.2533, 'Close': 169.23, 'High': 170.59, 'Low': 169.22, 'Open': 170.52, 'Volume': 25643711.0}\""
      ]
     },
     "execution_count": 48,
     "metadata": {},
     "output_type": "execute_result"
    }
   ],
   "source": [
    "# Convert to JSON-style text\n",
    "row_texts = df.apply(lambda row: row.to_dict(), axis=1).to_list()\n",
    "\n",
    "# Format into readable string\n",
    "table_text = \"\\n\".join([str(row) for row in row_texts])\n",
    "\n",
    "table_text"
   ]
  },
  {
   "cell_type": "code",
   "execution_count": 52,
   "id": "4fd1deb2",
   "metadata": {},
   "outputs": [
    {
     "name": "stdout",
     "output_type": "stream",
     "text": [
      "To find the day with the highest adj closing price, we need to compare the 'Adj Close' values for all days. \n",
      "\n",
      "The highest adj closing price occurred on 2017-12-18 with a value of 171.2318.\n",
      "\n",
      "The volume on this day was 28831533, which is higher than the average volume but not the highest volume overall. The highest volume occurred on 2017-02-01 with a value of 111985040, which is roughly 3.9 times higher than the volume on 2017-12-18. However, the volume on 2017-12-18 is still one of the higher volumes in the dataset.\n"
     ]
    }
   ],
   "source": [
    "from openai import OpenAI\n",
    "\n",
    "client = OpenAI(\n",
    "    api_key=\"hidden\",\n",
    "    base_url=\"https://api.groq.com/openai/v1\"\n",
    ")\n",
    "\n",
    "user_prompt = f\"\"\"\n",
    "Here is stock price data:\n",
    "\n",
    "{table_text}\n",
    "\n",
    "Question: What day had the highest adj closing price, and how did the volume on that day compare to the others?\n",
    "Don't give instructions on Python codes.\n",
    "\"\"\"\n",
    "\n",
    "response = client.chat.completions.create(\n",
    "    model=\"llama-3.3-70b-versatile\",\n",
    "    messages=[\n",
    "        {\"role\": \"system\", \"content\": \"You are a financial data assistant.\"},\n",
    "        {\"role\": \"user\", \"content\": user_prompt}\n",
    "    ],\n",
    ")\n",
    "\n",
    "print(response.choices[0].message.content)\n"
   ]
  },
  {
   "cell_type": "code",
   "execution_count": null,
   "id": "5c487b90",
   "metadata": {},
   "outputs": [],
   "source": []
  }
 ],
 "metadata": {
  "kernelspec": {
   "display_name": "Python 3 (ipykernel)",
   "language": "python",
   "name": "python3"
  },
  "language_info": {
   "codemirror_mode": {
    "name": "ipython",
    "version": 3
   },
   "file_extension": ".py",
   "mimetype": "text/x-python",
   "name": "python",
   "nbconvert_exporter": "python",
   "pygments_lexer": "ipython3",
   "version": "3.11.7"
  },
  "toc": {
   "base_numbering": 1,
   "nav_menu": {},
   "number_sections": true,
   "sideBar": true,
   "skip_h1_title": false,
   "title_cell": "Table of Contents",
   "title_sidebar": "Contents",
   "toc_cell": false,
   "toc_position": {},
   "toc_section_display": true,
   "toc_window_display": false
  }
 },
 "nbformat": 4,
 "nbformat_minor": 5
}
